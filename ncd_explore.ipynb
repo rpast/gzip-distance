{
 "cells": [
  {
   "cell_type": "code",
   "execution_count": 7,
   "metadata": {},
   "outputs": [],
   "source": [
    "import gzip\n",
    "import numpy as np\n",
    "import pandas as pd\n",
    "from tqdm import tqdm\n",
    "\n",
    "from multiprocessing import Pool\n",
    "import multiprocessing as multi"
   ]
  },
  {
   "attachments": {},
   "cell_type": "markdown",
   "metadata": {},
   "source": [
    "Utils"
   ]
  },
  {
   "cell_type": "code",
   "execution_count": 8,
   "metadata": {},
   "outputs": [],
   "source": [
    "# Create a pool of workers\n",
    "num_cores = multi.cpu_count()\n",
    "pool = Pool(processes=6)"
   ]
  },
  {
   "cell_type": "code",
   "execution_count": 9,
   "metadata": {},
   "outputs": [],
   "source": [
    "def norm_compression_distance(args):\n",
    "    \"\"\"norm compression distance algorithm\n",
    "    :param args: x1, training_set, k\n",
    "    :return: predict class\n",
    "    \"\"\"\n",
    "\n",
    "    x1, training_set, k = args\n",
    "    Cx1 = len(gzip.compress(x1.encode()))\n",
    "    distance_from_x1 = []\n",
    "\n",
    "    for idx, training_tweet in enumerate(training_set):\n",
    "        x2 = training_tweet[0]\n",
    "        Cx2 = len(gzip.compress(x2.encode()))\n",
    "        x1x2 = \" \".join([x1, x2])\n",
    "        Cx1x2 = len(gzip.compress(x1x2.encode()))\n",
    "\n",
    "        ncd = (Cx1x2 - min(Cx1, Cx2)) / max(Cx1, Cx2)\n",
    "\n",
    "        distance_from_x1.append((idx,ncd))\n",
    "    \n",
    "    distance_from_x1_df = pd.DataFrame(distance_from_x1, columns=['idx','ncd'])\n",
    "    # print(distance_from_x1)\n",
    "    sorted_idx = distance_from_x1_df.sort_values(by=['ncd'], ascending=True)['idx'].tolist()\n",
    "    # print(sorted_idx[:k])\n",
    "    top_k_class = training_set[sorted_idx[:k],1].tolist()\n",
    "    predict_class = max(set(top_k_class), key=top_k_class.count)\n",
    "    \n",
    "    return predict_class\n",
    "\n",
    "\n",
    "def find_k_grid(rng, label='label'):\n",
    "    \"\"\"Find k with grid search. \n",
    "    Can be used for a single scalar val of k by spec range(k,k+1)\n",
    "    Utilizes multiprocessing.\n",
    "    Requires training_set, test_set, test_set_sample to be defined.\n",
    "    :param rng: range of k\n",
    "    :param label: label name\n",
    "    \"\"\"\n",
    "    grid = []\n",
    "    for k in tqdm(rng):\n",
    "        args = [(x1, training_set, k) for x1, _ in test_set]\n",
    "        preds = pool.map(norm_compression_distance, args)\n",
    "\n",
    "        # preds = np.array(preds)\n",
    "        test_floor = test_set_sample.copy()\n",
    "        test_floor['preds'] = preds\n",
    "        test_floor['correct'] = test_floor[label] == test_floor['preds']\n",
    "        accuracy = test_floor['correct'].sum() / len(test_floor)\n",
    "        grid.append((k, accuracy))\n",
    "\n",
    "    grid_df = pd.DataFrame(grid, columns=['k', 'accuracy'])\n",
    "    grid_df.sort_values(by=['accuracy'], ascending=False)\n",
    "    grid_df\n",
    "\n",
    "    return grid_df"
   ]
  },
  {
   "attachments": {},
   "cell_type": "markdown",
   "metadata": {},
   "source": [
    "Params"
   ]
  },
  {
   "cell_type": "code",
   "execution_count": 10,
   "metadata": {},
   "outputs": [],
   "source": [
    "sample_cnt = 100"
   ]
  },
  {
   "attachments": {},
   "cell_type": "markdown",
   "metadata": {},
   "source": [
    "# Twitter message classification"
   ]
  },
  {
   "cell_type": "code",
   "execution_count": 11,
   "metadata": {},
   "outputs": [],
   "source": [
    "training_set_src = pd.read_csv(\n",
    "    './data/Corona_NLP_train.csv',\n",
    "    encoding='iso-8859-1'\n",
    ")[['OriginalTweet', 'Sentiment']]\n",
    "training_set_src.columns = ['tweet', 'label']\n",
    "test_set_src = pd.read_csv(\n",
    "    './data/Corona_NLP_test.csv',\n",
    "    encoding='iso-8859-1'\n",
    ")[['OriginalTweet', 'Sentiment']]\n",
    "test_set_src.columns = ['tweet', 'label']"
   ]
  },
  {
   "attachments": {},
   "cell_type": "markdown",
   "metadata": {},
   "source": [
    "Check label distr"
   ]
  },
  {
   "cell_type": "code",
   "execution_count": 12,
   "metadata": {},
   "outputs": [
    {
     "data": {
      "text/plain": [
       "label\n",
       "Positive              0.277523\n",
       "Negative              0.240955\n",
       "Neutral               0.187404\n",
       "Extremely Positive    0.160945\n",
       "Extremely Negative    0.133173\n",
       "Name: proportion, dtype: float64"
      ]
     },
     "execution_count": 12,
     "metadata": {},
     "output_type": "execute_result"
    }
   ],
   "source": [
    "training_set_src['label'].value_counts(normalize=True)"
   ]
  },
  {
   "cell_type": "code",
   "execution_count": 13,
   "metadata": {},
   "outputs": [
    {
     "data": {
      "text/plain": [
       "label\n",
       "Negative              0.274092\n",
       "Positive              0.249342\n",
       "Neutral               0.162981\n",
       "Extremely Positive    0.157715\n",
       "Extremely Negative    0.155872\n",
       "Name: proportion, dtype: float64"
      ]
     },
     "execution_count": 13,
     "metadata": {},
     "output_type": "execute_result"
    }
   ],
   "source": [
    "test_set_src['label'].value_counts(normalize=True)"
   ]
  },
  {
   "attachments": {},
   "cell_type": "markdown",
   "metadata": {},
   "source": [
    "Form data sets"
   ]
  },
  {
   "cell_type": "code",
   "execution_count": 14,
   "metadata": {},
   "outputs": [],
   "source": [
    "test_set_sample = test_set_src.sample(sample_cnt)\n",
    "test_set = test_set_sample.to_numpy()\n",
    "training_set = training_set_src.to_numpy()"
   ]
  },
  {
   "cell_type": "code",
   "execution_count": 15,
   "metadata": {},
   "outputs": [],
   "source": [
    "# This grid search takes a long time to run\n",
    "#\n",
    "# corona_sentiment_grid = find_k_grid(range(1, 21))\n",
    "# corona_sentiment_grid"
   ]
  },
  {
   "cell_type": "code",
   "execution_count": 16,
   "metadata": {},
   "outputs": [],
   "source": [
    "# corona_sentiment_grid.plot(x='k', y='accuracy', kind='line', title='k vs accuracy')"
   ]
  },
  {
   "attachments": {},
   "cell_type": "markdown",
   "metadata": {},
   "source": [
    "Method yields low accuracy on the un-processed data set. We will choose k=7 for now and see how it performs also on the dataset with less labels."
   ]
  },
  {
   "cell_type": "code",
   "execution_count": 17,
   "metadata": {},
   "outputs": [],
   "source": [
    "# predict classes of tweets\n",
    "k=7\n",
    "args = [(x1, training_set, k) for x1, _ in test_set]\n",
    "preds = pool.map(norm_compression_distance, args)\n",
    "\n",
    "test_set_sample['preds'] = preds\n",
    "test_set_sample['correct'] = test_set_sample['label'] == test_set_sample['preds']"
   ]
  },
  {
   "cell_type": "code",
   "execution_count": 34,
   "metadata": {},
   "outputs": [
    {
     "name": "stdout",
     "output_type": "stream",
     "text": [
      "ACC: 0.31\n"
     ]
    },
    {
     "data": {
      "image/png": "[encoded data removed]",
      "text/plain": [
       "<Figure size 640x480 with 2 Axes>"
      ]
     },
     "metadata": {},
     "output_type": "display_data"
    }
   ],
   "source": [
    "# calculate simple accuracy\n",
    "acc = test_set_sample['correct'].sum() / len(test_set_sample)\n",
    "print('ACC:', acc)\n",
    "\n",
    "# use sklearn confusion matrix display\n",
    "from sklearn.metrics import confusion_matrix, ConfusionMatrixDisplay\n",
    "labels = ['Positive', 'Negative', 'Neutral', 'Extremely Positive', 'Extremely Negative']\n",
    "cm = confusion_matrix(test_set_sample['label'], test_set_sample['preds'])\n",
    "disp = ConfusionMatrixDisplay(confusion_matrix=cm, display_labels=labels)\n",
    "_ = disp.plot(xticks_rotation=90)\n"
   ]
  },
  {
   "attachments": {},
   "cell_type": "markdown",
   "metadata": {},
   "source": [
    "This CM is a mess. Let's try classification with less labels"
   ]
  },
  {
   "cell_type": "code",
   "execution_count": null,
   "metadata": {},
   "outputs": [],
   "source": [
    "#tbc"
   ]
  },
  {
   "attachments": {},
   "cell_type": "markdown",
   "metadata": {},
   "source": [
    "Try this method on a dataset from the paper\n",
    "https://www.kaggle.com/datasets/amananandrai/ag-news-classification-dataset"
   ]
  },
  {
   "cell_type": "code",
   "execution_count": 32,
   "metadata": {},
   "outputs": [],
   "source": [
    "training_set_src = pd.read_csv(\n",
    "    './data/AGNews_train.csv',\n",
    "    encoding='iso-8859-1'\n",
    ")\n",
    "test_set_src = pd.read_csv(\n",
    "    './data/AGNews_test.csv',\n",
    "    encoding='iso-8859-1'\n",
    ")\n",
    "training_set_src.columns = ['label', 'title', 'description']\n",
    "test_set_src.columns = ['label', 'title', 'description']"
   ]
  },
  {
   "cell_type": "code",
   "execution_count": 33,
   "metadata": {},
   "outputs": [],
   "source": [
    "training_set_src['text'] = training_set_src['title'] + ' ' + training_set_src['description']\n",
    "test_set_src['text'] = test_set_src['title'] + ' ' + test_set_src['description']\n",
    "\n",
    "training_set = training_set_src[['text', 'label']].to_numpy()\n",
    "test_set_sample = test_set_src.sample(sample_cnt)\n",
    "test_set = test_set_sample[['text', 'label']].to_numpy()"
   ]
  },
  {
   "cell_type": "code",
   "execution_count": 39,
   "metadata": {},
   "outputs": [
    {
     "name": "stderr",
     "output_type": "stream",
     "text": [
      "100%|██████████| 1/1 [09:14<00:00, 554.96s/it]\n"
     ]
    },
    {
     "data": {
      "text/html": [
       "<div>\n",
       "<style scoped>\n",
       "    .dataframe tbody tr th:only-of-type {\n",
       "        vertical-align: middle;\n",
       "    }\n",
       "\n",
       "    .dataframe tbody tr th {\n",
       "        vertical-align: top;\n",
       "    }\n",
       "\n",
       "    .dataframe thead th {\n",
       "        text-align: right;\n",
       "    }\n",
       "</style>\n",
       "<table border=\"1\" class=\"dataframe\">\n",
       "  <thead>\n",
       "    <tr style=\"text-align: right;\">\n",
       "      <th></th>\n",
       "      <th>k</th>\n",
       "      <th>accuracy</th>\n",
       "    </tr>\n",
       "  </thead>\n",
       "  <tbody>\n",
       "    <tr>\n",
       "      <th>0</th>\n",
       "      <td>5</td>\n",
       "      <td>0.91</td>\n",
       "    </tr>\n",
       "  </tbody>\n",
       "</table>\n",
       "</div>"
      ],
      "text/plain": [
       "   k  accuracy\n",
       "0  5      0.91"
      ]
     },
     "execution_count": 39,
     "metadata": {},
     "output_type": "execute_result"
    }
   ],
   "source": [
    "agnews_grid = find_k_grid(range(5, 6), label='label')\n",
    "agnews_grid"
   ]
  }
 ],
 "metadata": {
  "kernelspec": {
   "display_name": "base",
   "language": "python",
   "name": "python3"
  },
  "language_info": {
   "codemirror_mode": {
    "name": "ipython",
    "version": 3
   },
   "file_extension": ".py",
   "mimetype": "text/x-python",
   "name": "python",
   "nbconvert_exporter": "python",
   "pygments_lexer": "ipython3",
   "version": "3.10.10"
  },
  "orig_nbformat": 4
 },
 "nbformat": 4,
 "nbformat_minor": 2
}
