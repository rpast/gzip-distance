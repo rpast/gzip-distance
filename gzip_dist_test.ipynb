{
 "cells": [
  {
   "cell_type": "code",
   "execution_count": 16,
   "metadata": {},
   "outputs": [],
   "source": [
    "import gzip\n",
    "import numpy as np\n",
    "import pandas as pd\n",
    "from tqdm import tqdm\n",
    "\n",
    "from multiprocessing import Pool\n",
    "import multiprocessing as multi"
   ]
  },
  {
   "cell_type": "code",
   "execution_count": 17,
   "metadata": {},
   "outputs": [],
   "source": [
    "training_set_src = pd.read_csv(\n",
    "    './Corona_NLP_train.csv',\n",
    "    encoding='iso-8859-1'\n",
    ")[['OriginalTweet', 'Sentiment']]\n",
    "test_set_src = pd.read_csv(\n",
    "    './Corona_NLP_test.csv',\n",
    "    encoding='iso-8859-1'\n",
    ")[['OriginalTweet', 'Sentiment']]"
   ]
  },
  {
   "cell_type": "code",
   "execution_count": 25,
   "metadata": {},
   "outputs": [
    {
     "data": {
      "text/plain": [
       "Sentiment\n",
       "Positive              0.277523\n",
       "Negative              0.240955\n",
       "Neutral               0.187404\n",
       "Extremely Positive    0.160945\n",
       "Extremely Negative    0.133173\n",
       "Name: proportion, dtype: float64"
      ]
     },
     "execution_count": 25,
     "metadata": {},
     "output_type": "execute_result"
    }
   ],
   "source": [
    "training_set_src['Sentiment'].value_counts(normalize=True)"
   ]
  },
  {
   "cell_type": "code",
   "execution_count": 26,
   "metadata": {},
   "outputs": [
    {
     "data": {
      "text/plain": [
       "Sentiment\n",
       "Negative              0.274092\n",
       "Positive              0.249342\n",
       "Neutral               0.162981\n",
       "Extremely Positive    0.157715\n",
       "Extremely Negative    0.155872\n",
       "Name: proportion, dtype: float64"
      ]
     },
     "execution_count": 26,
     "metadata": {},
     "output_type": "execute_result"
    }
   ],
   "source": [
    "test_set_src['Sentiment'].value_counts(normalize=True)"
   ]
  },
  {
   "cell_type": "code",
   "execution_count": 20,
   "metadata": {},
   "outputs": [],
   "source": [
    "sample_cnt = 100\n",
    "k = 10\n",
    "\n",
    "test_set_sample = test_set_src.sample(sample_cnt)\n",
    "test_set = test_set_sample.to_numpy()\n",
    "training_set = training_set_src.to_numpy()\n"
   ]
  },
  {
   "cell_type": "code",
   "execution_count": 21,
   "metadata": {},
   "outputs": [],
   "source": [
    "# norm compression distance algorithm\n",
    "preds = []\n",
    "\n",
    "def norm_compression_distance(args):\n",
    "    \"\"\"norm compression distance algorithm\n",
    "    :param x1: test text string\n",
    "    :param training_set: training set\n",
    "    :param k: k nearest neighbors\n",
    "    :return: predict class\n",
    "    \"\"\"\n",
    "\n",
    "    x1, training_set, k = args\n",
    "    Cx1 = len(gzip.compress(x1.encode()))\n",
    "    distance_from_x1 = []\n",
    "\n",
    "    for idx, training_tweet in enumerate(training_set):\n",
    "        x2 = training_tweet[0]\n",
    "        Cx2 = len(gzip.compress(x2.encode()))\n",
    "        x1x2 = \" \".join([x1, x2])\n",
    "        Cx1x2 = len(gzip.compress(x1x2.encode()))\n",
    "\n",
    "        ncd = (Cx1x2 - min(Cx1, Cx2)) / max(Cx1, Cx2)\n",
    "\n",
    "        distance_from_x1.append((idx,ncd))\n",
    "    \n",
    "    distance_from_x1_df = pd.DataFrame(distance_from_x1, columns=['idx','ncd'])\n",
    "    # print(distance_from_x1)\n",
    "    sorted_idx = distance_from_x1_df.sort_values(by=['ncd'], ascending=True)['idx'].tolist()\n",
    "    # print(sorted_idx[:k])\n",
    "    top_k_class = training_set[sorted_idx[:k],1].tolist()\n",
    "    predict_class = max(set(top_k_class), key=top_k_class.count)\n",
    "    \n",
    "    return predict_class"
   ]
  },
  {
   "cell_type": "code",
   "execution_count": 22,
   "metadata": {},
   "outputs": [],
   "source": [
    "# Create a pool of workers\n",
    "num_cores = multi.cpu_count()\n",
    "pool = Pool(processes=6)"
   ]
  },
  {
   "cell_type": "code",
   "execution_count": 38,
   "metadata": {},
   "outputs": [],
   "source": [
    "def find_k_grid(rng, label='Sentiment'):\n",
    "    grid = []\n",
    "    for k in tqdm(rng):\n",
    "        args = [(x1, training_set, k) for x1, _ in test_set]\n",
    "        preds = pool.map(norm_compression_distance, args)\n",
    "\n",
    "        # preds = np.array(preds)\n",
    "        test_set_sample['preds'] = preds\n",
    "        test_set_sample['correct'] = test_set_sample[label] == test_set_sample['preds']\n",
    "        accuracy = test_set_sample['correct'].sum() / len(test_set_sample)\n",
    "        grid.append((k, accuracy))\n",
    "\n",
    "    grid_df = pd.DataFrame(grid, columns=['k', 'accuracy'])\n",
    "    grid_df.sort_values(by=['accuracy'], ascending=False)\n",
    "    grid_df\n",
    "\n",
    "    return grid_df"
   ]
  },
  {
   "cell_type": "code",
   "execution_count": 23,
   "metadata": {},
   "outputs": [
    {
     "name": "stderr",
     "output_type": "stream",
     "text": [
      "  0%|          | 0/20 [00:00<?, ?it/s]"
     ]
    },
    {
     "name": "stderr",
     "output_type": "stream",
     "text": [
      "100%|██████████| 20/20 [50:05<00:00, 150.30s/it]\n"
     ]
    },
    {
     "data": {
      "text/html": [
       "<div>\n",
       "<style scoped>\n",
       "    .dataframe tbody tr th:only-of-type {\n",
       "        vertical-align: middle;\n",
       "    }\n",
       "\n",
       "    .dataframe tbody tr th {\n",
       "        vertical-align: top;\n",
       "    }\n",
       "\n",
       "    .dataframe thead th {\n",
       "        text-align: right;\n",
       "    }\n",
       "</style>\n",
       "<table border=\"1\" class=\"dataframe\">\n",
       "  <thead>\n",
       "    <tr style=\"text-align: right;\">\n",
       "      <th></th>\n",
       "      <th>k</th>\n",
       "      <th>accuracy</th>\n",
       "    </tr>\n",
       "  </thead>\n",
       "  <tbody>\n",
       "    <tr>\n",
       "      <th>0</th>\n",
       "      <td>1</td>\n",
       "      <td>0.26</td>\n",
       "    </tr>\n",
       "    <tr>\n",
       "      <th>1</th>\n",
       "      <td>2</td>\n",
       "      <td>0.26</td>\n",
       "    </tr>\n",
       "    <tr>\n",
       "      <th>2</th>\n",
       "      <td>3</td>\n",
       "      <td>0.25</td>\n",
       "    </tr>\n",
       "    <tr>\n",
       "      <th>3</th>\n",
       "      <td>4</td>\n",
       "      <td>0.33</td>\n",
       "    </tr>\n",
       "    <tr>\n",
       "      <th>4</th>\n",
       "      <td>5</td>\n",
       "      <td>0.36</td>\n",
       "    </tr>\n",
       "    <tr>\n",
       "      <th>5</th>\n",
       "      <td>6</td>\n",
       "      <td>0.35</td>\n",
       "    </tr>\n",
       "    <tr>\n",
       "      <th>6</th>\n",
       "      <td>7</td>\n",
       "      <td>0.37</td>\n",
       "    </tr>\n",
       "    <tr>\n",
       "      <th>7</th>\n",
       "      <td>8</td>\n",
       "      <td>0.35</td>\n",
       "    </tr>\n",
       "    <tr>\n",
       "      <th>8</th>\n",
       "      <td>9</td>\n",
       "      <td>0.35</td>\n",
       "    </tr>\n",
       "    <tr>\n",
       "      <th>9</th>\n",
       "      <td>10</td>\n",
       "      <td>0.32</td>\n",
       "    </tr>\n",
       "    <tr>\n",
       "      <th>10</th>\n",
       "      <td>11</td>\n",
       "      <td>0.35</td>\n",
       "    </tr>\n",
       "    <tr>\n",
       "      <th>11</th>\n",
       "      <td>12</td>\n",
       "      <td>0.36</td>\n",
       "    </tr>\n",
       "    <tr>\n",
       "      <th>12</th>\n",
       "      <td>13</td>\n",
       "      <td>0.31</td>\n",
       "    </tr>\n",
       "    <tr>\n",
       "      <th>13</th>\n",
       "      <td>14</td>\n",
       "      <td>0.36</td>\n",
       "    </tr>\n",
       "    <tr>\n",
       "      <th>14</th>\n",
       "      <td>15</td>\n",
       "      <td>0.37</td>\n",
       "    </tr>\n",
       "    <tr>\n",
       "      <th>15</th>\n",
       "      <td>16</td>\n",
       "      <td>0.36</td>\n",
       "    </tr>\n",
       "    <tr>\n",
       "      <th>16</th>\n",
       "      <td>17</td>\n",
       "      <td>0.30</td>\n",
       "    </tr>\n",
       "    <tr>\n",
       "      <th>17</th>\n",
       "      <td>18</td>\n",
       "      <td>0.32</td>\n",
       "    </tr>\n",
       "    <tr>\n",
       "      <th>18</th>\n",
       "      <td>19</td>\n",
       "      <td>0.34</td>\n",
       "    </tr>\n",
       "    <tr>\n",
       "      <th>19</th>\n",
       "      <td>20</td>\n",
       "      <td>0.36</td>\n",
       "    </tr>\n",
       "  </tbody>\n",
       "</table>\n",
       "</div>"
      ],
      "text/plain": [
       "     k  accuracy\n",
       "0    1      0.26\n",
       "1    2      0.26\n",
       "2    3      0.25\n",
       "3    4      0.33\n",
       "4    5      0.36\n",
       "5    6      0.35\n",
       "6    7      0.37\n",
       "7    8      0.35\n",
       "8    9      0.35\n",
       "9   10      0.32\n",
       "10  11      0.35\n",
       "11  12      0.36\n",
       "12  13      0.31\n",
       "13  14      0.36\n",
       "14  15      0.37\n",
       "15  16      0.36\n",
       "16  17      0.30\n",
       "17  18      0.32\n",
       "18  19      0.34\n",
       "19  20      0.36"
      ]
     },
     "execution_count": 23,
     "metadata": {},
     "output_type": "execute_result"
    }
   ],
   "source": [
    "corona_sentiment_grid = find_k_grid(range(1, 21))\n",
    "corona_sentiment_grid"
   ]
  },
  {
   "cell_type": "code",
   "execution_count": 24,
   "metadata": {},
   "outputs": [
    {
     "data": {
      "text/plain": [
       "<Axes: title={'center': 'k vs accuracy'}, xlabel='k'>"
      ]
     },
     "execution_count": 24,
     "metadata": {},
     "output_type": "execute_result"
    },
    {
     "data": {
      "image/png": "[encoded data removed]",
      "text/plain": [
       "<Figure size 640x480 with 1 Axes>"
      ]
     },
     "metadata": {},
     "output_type": "display_data"
    }
   ],
   "source": [
    "corona_sentiment_grid.plot(x='k', y='accuracy', kind='line', title='k vs accuracy')"
   ]
  },
  {
   "attachments": {},
   "cell_type": "markdown",
   "metadata": {},
   "source": [
    "Try this method on a dataset from the paper\n",
    "https://www.kaggle.com/datasets/amananandrai/ag-news-classification-dataset"
   ]
  },
  {
   "cell_type": "code",
   "execution_count": 32,
   "metadata": {},
   "outputs": [],
   "source": [
    "training_set_src = pd.read_csv(\n",
    "    './AGNews_train.csv',\n",
    "    encoding='iso-8859-1'\n",
    ")\n",
    "test_set_src = pd.read_csv(\n",
    "    './AGNews_test.csv',\n",
    "    encoding='iso-8859-1'\n",
    ")\n",
    "training_set_src.columns = ['label', 'title', 'description']\n",
    "test_set_src.columns = ['label', 'title', 'description']"
   ]
  },
  {
   "cell_type": "code",
   "execution_count": 33,
   "metadata": {},
   "outputs": [],
   "source": [
    "training_set_src['text'] = training_set_src['title'] + ' ' + training_set_src['description']\n",
    "test_set_src['text'] = test_set_src['title'] + ' ' + test_set_src['description']\n",
    "\n",
    "training_set = training_set_src[['text', 'label']].to_numpy()\n",
    "test_set_sample = test_set_src.sample(sample_cnt)\n",
    "test_set = test_set_sample[['text', 'label']].to_numpy()"
   ]
  },
  {
   "cell_type": "code",
   "execution_count": 39,
   "metadata": {},
   "outputs": [
    {
     "name": "stderr",
     "output_type": "stream",
     "text": [
      "100%|██████████| 1/1 [09:14<00:00, 554.96s/it]\n"
     ]
    },
    {
     "data": {
      "text/html": [
       "<div>\n",
       "<style scoped>\n",
       "    .dataframe tbody tr th:only-of-type {\n",
       "        vertical-align: middle;\n",
       "    }\n",
       "\n",
       "    .dataframe tbody tr th {\n",
       "        vertical-align: top;\n",
       "    }\n",
       "\n",
       "    .dataframe thead th {\n",
       "        text-align: right;\n",
       "    }\n",
       "</style>\n",
       "<table border=\"1\" class=\"dataframe\">\n",
       "  <thead>\n",
       "    <tr style=\"text-align: right;\">\n",
       "      <th></th>\n",
       "      <th>k</th>\n",
       "      <th>accuracy</th>\n",
       "    </tr>\n",
       "  </thead>\n",
       "  <tbody>\n",
       "    <tr>\n",
       "      <th>0</th>\n",
       "      <td>5</td>\n",
       "      <td>0.91</td>\n",
       "    </tr>\n",
       "  </tbody>\n",
       "</table>\n",
       "</div>"
      ],
      "text/plain": [
       "   k  accuracy\n",
       "0  5      0.91"
      ]
     },
     "execution_count": 39,
     "metadata": {},
     "output_type": "execute_result"
    }
   ],
   "source": [
    "agnews_grid = find_k_grid(range(5, 6), label='label')\n",
    "agnews_grid"
   ]
  }
 ],
 "metadata": {
  "kernelspec": {
   "display_name": "base",
   "language": "python",
   "name": "python3"
  },
  "language_info": {
   "codemirror_mode": {
    "name": "ipython",
    "version": 3
   },
   "file_extension": ".py",
   "mimetype": "text/x-python",
   "name": "python",
   "nbconvert_exporter": "python",
   "pygments_lexer": "ipython3",
   "version": "3.10.10"
  },
  "orig_nbformat": 4
 },
 "nbformat": 4,
 "nbformat_minor": 2
}
